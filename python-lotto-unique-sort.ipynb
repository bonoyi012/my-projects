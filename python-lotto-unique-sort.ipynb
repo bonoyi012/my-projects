{
 "cells": [
  {
   "cell_type": "markdown",
   "id": "headed-gasoline",
   "metadata": {},
   "source": [
    "## Hojin_Lee_CIS9650_HW"
   ]
  },
  {
   "cell_type": "code",
   "execution_count": 1,
   "id": "familiar-playing",
   "metadata": {},
   "outputs": [],
   "source": [
    "import numpy as np\n",
    "lotto = np.loadtxt(\"/Users/hojin/Desktop/BaruchClass/CIS9650-Python/Assignment/lotto.txt\", delimiter=\" \", dtype=\"int32\")"
   ]
  },
  {
   "cell_type": "code",
   "execution_count": 3,
   "id": "stuffed-carry",
   "metadata": {},
   "outputs": [],
   "source": [
    "# Sort each row, from smallest number to largest\n",
    "lotto.sort(axis=1)"
   ]
  },
  {
   "cell_type": "code",
   "execution_count": 5,
   "id": "given-ground",
   "metadata": {},
   "outputs": [],
   "source": [
    "# Save the sorted array to a file called lotto_sorted.txt\n",
    "np.savetxt(\"lotto_sorted.txt\", lotto, delimiter=\" \", fmt=\"%i\")"
   ]
  },
  {
   "cell_type": "code",
   "execution_count": 28,
   "id": "structural-elephant",
   "metadata": {},
   "outputs": [
    {
     "data": {
      "text/plain": [
       "array([ 1,  2,  3,  4,  5,  6,  7,  8,  9, 10, 11, 12, 13, 14, 15, 16, 17,\n",
       "       18, 19, 20, 21, 22, 23, 24, 25, 26, 27, 28, 29, 30, 31, 32, 33, 34,\n",
       "       35, 36, 37, 38, 39, 40, 41, 42, 43, 44, 45, 46, 47, 48, 49, 50, 51,\n",
       "       52, 53, 54, 55, 56, 57, 58, 59, 60, 61, 62, 63, 64, 65, 66, 67, 68,\n",
       "       69], dtype=int32)"
      ]
     },
     "execution_count": 28,
     "metadata": {},
     "output_type": "execute_result"
    }
   ],
   "source": [
    "# Print to the screen all unique numbers in the array and the count of each unique number\n",
    "unique = np.unique(lotto)\n",
    "print(unique)"
   ]
  },
  {
   "cell_type": "code",
   "execution_count": 30,
   "id": "immune-regular",
   "metadata": {},
   "outputs": [
    {
     "name": "stdout",
     "output_type": "stream",
     "text": [
      "{1: 70, 2: 68, 3: 71, 4: 66, 5: 76, 6: 65, 7: 79, 8: 75, 9: 67, 10: 80, 11: 85, 12: 83, 13: 81, 14: 79, 15: 66, 16: 74, 17: 98, 18: 91, 19: 111, 20: 92, 21: 69, 22: 93, 23: 102, 24: 84, 25: 88, 26: 68, 27: 49, 28: 61, 29: 52, 30: 57, 31: 56, 32: 61, 33: 47, 34: 53, 35: 44, 36: 59, 37: 45, 38: 54, 39: 63, 40: 61, 41: 62, 42: 46, 43: 46, 44: 54, 45: 58, 46: 50, 47: 55, 48: 53, 49: 58, 50: 50, 51: 52, 52: 65, 53: 48, 54: 62, 55: 56, 56: 49, 57: 53, 58: 51, 59: 57, 60: 4, 61: 4, 62: 9, 63: 4, 64: 7, 65: 4, 66: 5, 67: 5, 68: 6, 69: 8}\n"
     ]
    }
   ],
   "source": [
    "unique, counts = np.unique(lotto, return_counts=True)\n",
    "print(dict(zip(unique, counts)))"
   ]
  },
  {
   "cell_type": "code",
   "execution_count": null,
   "id": "hollow-report",
   "metadata": {},
   "outputs": [],
   "source": [
    "# Export your notebook as firstname_lastname_CIS9650_HW.py\n",
    "# Upload the .py file and lotto_sorted.txt to this assignment"
   ]
  },
  {
   "cell_type": "code",
   "execution_count": null,
   "id": "threaded-serbia",
   "metadata": {},
   "outputs": [],
   "source": []
  },
  {
   "cell_type": "code",
   "execution_count": null,
   "id": "charged-festival",
   "metadata": {},
   "outputs": [],
   "source": [
    "np.unique(lotto, return_counts=True)"
   ]
  },
  {
   "cell_type": "code",
   "execution_count": null,
   "id": "latest-paradise",
   "metadata": {},
   "outputs": [],
   "source": []
  }
 ],
 "metadata": {
  "kernelspec": {
   "display_name": "Python 3",
   "language": "python",
   "name": "python3"
  },
  "language_info": {
   "codemirror_mode": {
    "name": "ipython",
    "version": 3
   },
   "file_extension": ".py",
   "mimetype": "text/x-python",
   "name": "python",
   "nbconvert_exporter": "python",
   "pygments_lexer": "ipython3",
   "version": "3.8.8"
  }
 },
 "nbformat": 4,
 "nbformat_minor": 5
}
